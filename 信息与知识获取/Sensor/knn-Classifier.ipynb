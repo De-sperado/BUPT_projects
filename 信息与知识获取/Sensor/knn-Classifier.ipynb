{
 "cells": [
  {
   "cell_type": "code",
   "execution_count": 1,
   "metadata": {},
   "outputs": [],
   "source": [
    "import dtw\n",
    "import pandas\n",
    "import numpy as np\n",
    "import random\n",
    "from matplotlib import pyplot as plt"
   ]
  },
  {
   "cell_type": "markdown",
   "metadata": {},
   "source": [
    "### URC数据集\n",
    "Ｍ为训练集条数，Ｋ为测试集条数，Ｎ为序列长度\n",
    "\n",
    "- train_series：训练数据集，每一行一个序列，为Ｍ×Ｎ的矩阵\n",
    "- train_serise_labels：训练数据集标签，为Ｍ×１的列向量\n",
    "- test_series：测试数据集，每一行一个序列，为Ｋ×Ｎ的矩阵\n",
    "- test_series_labels：测试数据集标签，为Ｋ×１的列向量"
   ]
  },
  {
   "cell_type": "code",
   "execution_count": 2,
   "metadata": {},
   "outputs": [],
   "source": [
    "def get_data(data_name):\n",
    "    '''\n",
    "    获取数据\n",
    "    paras：data_name(数据名)\n",
    "    return：train_series（训练数据集），train_series_labels（训练数据集标签），test_series（测试数据集），test_series_labels（测试数据集标签）\n",
    "    '''\n",
    "    train = pandas.read_csv(r'../data/'+ data_name + r'/'+ data_name + r'_TRAIN.txt', header=-1,sep='\\t').values[:, :]    \n",
    "    train_series = train[:, 1:]\n",
    "    train_series_labels = train[:, 0]\n",
    "\n",
    "    test = pandas.read_csv(r'../data/'+ data_name + r'/'+ data_name + r'_TEST.txt',header=-1, sep='\\t').values[:, :]\n",
    "\n",
    "    random_arange = np.arange(0, test.shape[0])\n",
    "    random.shuffle(random_arange)\n",
    "\n",
    "    test_series = test[random_arange[0:50], 1:]\n",
    "    test_series_labels = test[random_arange[0:50], 0]   \n",
    "#     test_series = test[:,1:]\n",
    "#     test_series_labels = test[:, 0]    \n",
    "    \n",
    "    return train_series, train_series_labels, test_series, test_series_labels"
   ]
  },
  {
   "cell_type": "markdown",
   "metadata": {},
   "source": [
    "### K近邻算法"
   ]
  },
  {
   "cell_type": "code",
   "execution_count": 3,
   "metadata": {},
   "outputs": [],
   "source": [
    "class K_nearest_neighor():\n",
    "    \n",
    "    K = 1 # 初始为最近邻\n",
    "    train_series = [] # 训练数据\n",
    "    train_series_labels = [] # 训练数据标签\n",
    "    dist_lambda = lambda x, y: np.abs(x - y) # DTW判据，初始化为欧几里得距离\n",
    "    \n",
    "    def __init__(self, train_series, train_series_labels, K=1,  dist_lambda=lambda x, y: np.abs(x - y)):\n",
    "        \n",
    "        self.K = K\n",
    "        self.train_series = train_series\n",
    "        self.train_series_labels = train_series_labels\n",
    "        self.dist_lambda = dist_lambda\n",
    "    \n",
    "    \n",
    "    def predict(self, test_seris):\n",
    "        \n",
    "        predict_labels = [] #预测标签\n",
    "        \n",
    "        for test_series_signal in test_series:\n",
    "            t_dis = [] # 每一个序列与所有训练样本的相似度\n",
    "            \n",
    "            for train_series_signal in train_series:\n",
    "                # DTW计算序列相似度\n",
    "                dis, _, _, _ = dtw.accelerated_dtw(test_series_signal.reshape(-1,1),\n",
    "                                                   train_series_signal.reshape(-1,1), \n",
    "                                                   dist=self.dist_lambda)\n",
    "                t_dis.append(dis)\n",
    "            \n",
    "            # 与测试样本最相近的Ｋ个训练样本\n",
    "            nearest_series_labels = np.array(train_series_labels[np.argpartition(t_dis, self.K)[:self.K]]).astype(int)\n",
    "            # 分类类别\n",
    "            preditc_labels_signal = np.argmax(np.bincount(nearest_series_labels))\n",
    "            predict_labels.append(preditc_labels_signal)\n",
    "            \n",
    "        return predict_labels"
   ]
  },
  {
   "cell_type": "code",
   "execution_count": 4,
   "metadata": {},
   "outputs": [
    {
     "name": "stdout",
     "output_type": "stream",
     "text": [
      "[2. 1. 2. 3. 0. 6. 9. 0. 5. 7. 3. 2. 6. 8. 4. 7. 8. 5. 4. 1. 9. 8. 3. 9.\n",
      " 5. 6. 4. 7. 1. 0.]\n",
      "number 1 0.7333333333333333\n",
      "number 2 0.7\n",
      "number 3 0.6666666666666666\n",
      "number 4 0.5666666666666667\n",
      "number 5 0.6\n",
      "number 6 0.5666666666666667\n",
      "number 7 0.5333333333333333\n",
      "number 8 0.5\n"
     ]
    },
    {
     "ename": "KeyboardInterrupt",
     "evalue": "",
     "output_type": "error",
     "traceback": [
      "\u001b[1;31m---------------------------------------------------------------------------\u001b[0m",
      "\u001b[1;31mKeyboardInterrupt\u001b[0m                         Traceback (most recent call last)",
      "\u001b[1;32m<ipython-input-4-890bff87c947>\u001b[0m in \u001b[0;36m<module>\u001b[1;34m\u001b[0m\n\u001b[0;32m     18\u001b[0m                                    K=k)\n\u001b[0;32m     19\u001b[0m                 \u001b[1;31m# 预测标签\u001b[0m\u001b[1;33m\u001b[0m\u001b[1;33m\u001b[0m\u001b[1;33m\u001b[0m\u001b[0m\n\u001b[1;32m---> 20\u001b[1;33m         \u001b[0mpredict_labels\u001b[0m \u001b[1;33m=\u001b[0m \u001b[0mmy_knn\u001b[0m\u001b[1;33m.\u001b[0m\u001b[0mpredict\u001b[0m\u001b[1;33m(\u001b[0m\u001b[0mtest_series\u001b[0m\u001b[1;33m)\u001b[0m\u001b[1;33m\u001b[0m\u001b[1;33m\u001b[0m\u001b[0m\n\u001b[0m\u001b[0;32m     21\u001b[0m \u001b[1;31m#         print(predict_labels)\u001b[0m\u001b[1;33m\u001b[0m\u001b[1;33m\u001b[0m\u001b[1;33m\u001b[0m\u001b[0m\n\u001b[0;32m     22\u001b[0m         \u001b[1;31m# 精度计算\u001b[0m\u001b[1;33m\u001b[0m\u001b[1;33m\u001b[0m\u001b[1;33m\u001b[0m\u001b[0m\n",
      "\u001b[1;32m<ipython-input-3-1556a7c22898>\u001b[0m in \u001b[0;36mpredict\u001b[1;34m(self, test_seris)\u001b[0m\n\u001b[0;32m     25\u001b[0m                 dis, _, _, _ = dtw.accelerated_dtw(test_series_signal.reshape(-1,1),\n\u001b[0;32m     26\u001b[0m                                                    \u001b[0mtrain_series_signal\u001b[0m\u001b[1;33m.\u001b[0m\u001b[0mreshape\u001b[0m\u001b[1;33m(\u001b[0m\u001b[1;33m-\u001b[0m\u001b[1;36m1\u001b[0m\u001b[1;33m,\u001b[0m\u001b[1;36m1\u001b[0m\u001b[1;33m)\u001b[0m\u001b[1;33m,\u001b[0m\u001b[1;33m\u001b[0m\u001b[1;33m\u001b[0m\u001b[0m\n\u001b[1;32m---> 27\u001b[1;33m                                                    dist=self.dist_lambda)\n\u001b[0m\u001b[0;32m     28\u001b[0m                 \u001b[0mt_dis\u001b[0m\u001b[1;33m.\u001b[0m\u001b[0mappend\u001b[0m\u001b[1;33m(\u001b[0m\u001b[0mdis\u001b[0m\u001b[1;33m)\u001b[0m\u001b[1;33m\u001b[0m\u001b[1;33m\u001b[0m\u001b[0m\n\u001b[0;32m     29\u001b[0m \u001b[1;33m\u001b[0m\u001b[0m\n",
      "\u001b[1;32mE:\\anaconda\\lib\\site-packages\\dtw\\dtw.py\u001b[0m in \u001b[0;36maccelerated_dtw\u001b[1;34m(x, y, dist, warp)\u001b[0m\n\u001b[0;32m     86\u001b[0m             \u001b[0mmin_list\u001b[0m \u001b[1;33m=\u001b[0m \u001b[1;33m[\u001b[0m\u001b[0mD0\u001b[0m\u001b[1;33m[\u001b[0m\u001b[0mi\u001b[0m\u001b[1;33m,\u001b[0m \u001b[0mj\u001b[0m\u001b[1;33m]\u001b[0m\u001b[1;33m]\u001b[0m\u001b[1;33m\u001b[0m\u001b[1;33m\u001b[0m\u001b[0m\n\u001b[0;32m     87\u001b[0m             \u001b[1;32mfor\u001b[0m \u001b[0mk\u001b[0m \u001b[1;32min\u001b[0m \u001b[0mrange\u001b[0m\u001b[1;33m(\u001b[0m\u001b[1;36m1\u001b[0m\u001b[1;33m,\u001b[0m \u001b[0mwarp\u001b[0m \u001b[1;33m+\u001b[0m \u001b[1;36m1\u001b[0m\u001b[1;33m)\u001b[0m\u001b[1;33m:\u001b[0m\u001b[1;33m\u001b[0m\u001b[1;33m\u001b[0m\u001b[0m\n\u001b[1;32m---> 88\u001b[1;33m                 min_list += [D0[min(i + k, r), j],\n\u001b[0m\u001b[0;32m     89\u001b[0m                              D0[i, min(j + k, c)]]\n\u001b[0;32m     90\u001b[0m             \u001b[0mD1\u001b[0m\u001b[1;33m[\u001b[0m\u001b[0mi\u001b[0m\u001b[1;33m,\u001b[0m \u001b[0mj\u001b[0m\u001b[1;33m]\u001b[0m \u001b[1;33m+=\u001b[0m \u001b[0mmin\u001b[0m\u001b[1;33m(\u001b[0m\u001b[0mmin_list\u001b[0m\u001b[1;33m)\u001b[0m\u001b[1;33m\u001b[0m\u001b[1;33m\u001b[0m\u001b[0m\n",
      "\u001b[1;31mKeyboardInterrupt\u001b[0m: "
     ]
    }
   ],
   "source": [
    "# 所有数据名\n",
    "data_names = ['number'\n",
    "]\n",
    "# 不同的数据在不同的K值下的精度\n",
    "accuracies = []\n",
    "\n",
    "for d in data_names:\n",
    "    \n",
    "    accuracy = [] # 同种数据在不同的K值下的精度数组\n",
    "   \n",
    "    train_series, train_series_labels, test_series, test_series_labels = get_data(d) # 获取数据\n",
    "    print(test_series_labels)\n",
    "    \n",
    "    # 不同的K值预测\n",
    "    for k in range(1,11):\n",
    "        my_knn = K_nearest_neighor(train_series=train_series, \n",
    "                                   train_series_labels=train_series_labels, \n",
    "                                   K=k)\n",
    "                # 预测标签\n",
    "        predict_labels = my_knn.predict(test_series)\n",
    "#         print(predict_labels)\n",
    "        # 精度计算\n",
    "        c = np.mean(np.array(predict_labels) == test_series_labels)\n",
    "        accuracy.append(c)\n",
    "        print(d, k, c)\n",
    "#     print(\"-----------------------------------------------------\")\n",
    "#     accuracies.append(accuracy)\n",
    "#     with open(\"./accuracy.txt\", \"a+\") as f:\n",
    "#         f.write(str(accuracy))"
   ]
  },
  {
   "cell_type": "code",
   "execution_count": null,
   "metadata": {},
   "outputs": [],
   "source": []
  }
 ],
 "metadata": {
  "kernelspec": {
   "display_name": "Python 3",
   "language": "python",
   "name": "python3"
  },
  "language_info": {
   "codemirror_mode": {
    "name": "ipython",
    "version": 3
   },
   "file_extension": ".py",
   "mimetype": "text/x-python",
   "name": "python",
   "nbconvert_exporter": "python",
   "pygments_lexer": "ipython3",
   "version": "3.7.3"
  },
  "toc": {
   "base_numbering": 1,
   "nav_menu": {},
   "number_sections": true,
   "sideBar": true,
   "skip_h1_title": false,
   "title_cell": "Table of Contents",
   "title_sidebar": "Contents",
   "toc_cell": false,
   "toc_position": {},
   "toc_section_display": true,
   "toc_window_display": false
  }
 },
 "nbformat": 4,
 "nbformat_minor": 2
}
